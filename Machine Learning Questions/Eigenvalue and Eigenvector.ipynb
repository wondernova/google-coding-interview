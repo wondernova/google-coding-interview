{
 "cells": [
  {
   "cell_type": "code",
   "execution_count": 39,
   "metadata": {},
   "outputs": [
    {
     "name": "stdout",
     "output_type": "stream",
     "text": [
      "Populating the interactive namespace from numpy and matplotlib\n"
     ]
    }
   ],
   "source": [
    "%pylab inline\n",
    "import numpy as np"
   ]
  },
  {
   "cell_type": "markdown",
   "metadata": {},
   "source": [
    "# Definition\n",
    "\n",
    "$$ \\mathbf{Av} = \\lambda \\mathbf{v} $$\n",
    "\n",
    "* $ \\mathbf{v} $ : Eigenvector 이며 $ \\mathbf{v} \\ne \\mathbf{0} $ 즉 non-zero vector 이다.\n",
    "* $ \\mathbf{\\lambda} $ : Eignevalue\n",
    "* $ \\mathbf{v} $ 는 non-zero vector 로서 non-trivial solution 입니다. $ \\mathbf{v} \\ne \\mathbf{0} $ (trivial solution이란.. 0을 포함한다는 뜻)\n",
    "* $ \\mathbf{\\lambda} $ 는 $ \\mathbf{v} $ 의 길이만 transformation 합니다. (즉 방향을 바꾸지는 않음)\n",
    "* matrix $ \\mathbf{A} $ 는 square matrix 로서 n x n 의 크기를 갖습니다. \n",
    "\n",
    "예를 들어서, matrix $ \\mathbf{A} $ 그리고 vector $ \\mathbf{u} $ 를 곱하면 다음과 같습니다.\n",
    "\n",
    "$$ \\mathbf{Au} = \\begin{bmatrix}1 & 2\\\\8 & 1\\end{bmatrix} \\begin{bmatrix}1 \\\\ 2 \\end{bmatrix}\n",
    "= \\begin{bmatrix}5 \\\\ 10 \\end{bmatrix} = 5 \\begin{bmatrix}1 \\\\ 2 \\end{bmatrix} = \\lambda \\mathbf{u} $$\n",
    "\n",
    "여기서 중요한 점은 $ \\mathbf{Av} $ 는 scalar $ \\lambda \\mathbf{v} $ 로 transformation되었습니다. <br>\n",
    "즉 scalar $ \\lambda $ 가 $ \\mathbf{v} $ 에 곱해진다는 뜻은 **선형적으로 $ \\mathbf{v} $ 의 길이만 변형시킨다는 뜻입니다**. (방향은 바꾸지 않고, 길이만 바꿈)"
   ]
  },
  {
   "cell_type": "code",
   "execution_count": 61,
   "metadata": {},
   "outputs": [
    {
     "data": {
      "text/plain": [
       "array([[0.],\n",
       "       [2.],\n",
       "       [4.]])"
      ]
     },
     "execution_count": 61,
     "metadata": {},
     "output_type": "execute_result"
    }
   ],
   "source": [
    "\n",
    "A = np.array([[5, 0, 0], [-9, 4, -1], [-6, 2, 1]])\n",
    "v = np.array([[0], [1], [2]])\n",
    "\n",
    "A @ v - 2 * np.identity(3) @ v\n",
    "\n",
    "2 * np.identity(3) @ v\n"
   ]
  }
 ],
 "metadata": {
  "kernelspec": {
   "display_name": "Python 3",
   "language": "python",
   "name": "python3"
  },
  "language_info": {
   "codemirror_mode": {
    "name": "ipython",
    "version": 3
   },
   "file_extension": ".py",
   "mimetype": "text/x-python",
   "name": "python",
   "nbconvert_exporter": "python",
   "pygments_lexer": "ipython3",
   "version": "3.6.4"
  }
 },
 "nbformat": 4,
 "nbformat_minor": 2
}
