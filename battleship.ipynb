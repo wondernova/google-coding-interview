{
 "cells": [
  {
   "cell_type": "markdown",
   "metadata": {},
   "source": [
    "# Battleship Architecture\n",
    "\n",
    "1. 2명의 플레이어가 존재한다.\n",
    "2. 가정은 서로 HTTP 통신으로 하지만, 통신의 구현은 하지 않는다. \n",
    "3. 모든 배는 서로 붙어 있을 수 있다. \n",
    "4. 배는 서로 각기 다른 형태를 갖고 있다."
   ]
  },
  {
   "cell_type": "code",
   "execution_count": 243,
   "metadata": {},
   "outputs": [
    {
     "name": "stdout",
     "output_type": "stream",
     "text": [
      "[[0, 2, 0, 4, 4],\n",
      " [0, 2, 0, 4, 4],\n",
      " [0, 2, 1, 1, 1],\n",
      " [0, 2, 3, 0, 0],\n",
      " [0, 0, 0, 0, 0]]\n",
      "{1: 3, 2: 4, 3: 1, 4: 4}\n",
      "12\n"
     ]
    }
   ],
   "source": [
    "from pprint import pprint\n",
    "import random\n",
    "\n",
    "class Player:\n",
    "    def __init__(self, size=(10, 10)):\n",
    "        '''\n",
    "        @param size: (y, x)\n",
    "        '''\n",
    "        self.height, self.width = size\n",
    "        self.matrix = [[0]*size[1] for _ in range(size[0])]\n",
    "        self.ships = dict()\n",
    "        self.count = 0\n",
    "    \n",
    "    def add_ship(self, width, height):\n",
    "        while True:\n",
    "            min_x = random.randint(0, self.width - width)\n",
    "            min_y = random.randint(0, self.height - height)\n",
    "            max_x = min_x + width\n",
    "            max_y = min_y + height\n",
    "#             print('SHIP:', min_x, min_y, max_x, max_y)\n",
    "            if self.validate(min_x, min_y, max_x, max_y):\n",
    "                self._add_ship(min_x, min_y, max_x, max_y)\n",
    "                break\n",
    "                \n",
    "    def _add_ship(self, min_x, min_y, max_x, max_y):\n",
    "#         print('_add_ship', min_x, min_y, max_x, max_y)\n",
    "        ship_id = len(self.ships) + 1\n",
    "        self.ships[ship_id] = (max_x - min_x) * (max_y - min_y)\n",
    "        self.count += self.ships[ship_id]\n",
    "        \n",
    "        for i in range(min_y, max_y):\n",
    "            for j in range(min_x, max_x):\n",
    "#                 print('WRITE', i, j)\n",
    "                self.matrix[i][j] = ship_id\n",
    "        \n",
    "                \n",
    "    def validate(self, min_x, min_y, max_x, max_y):\n",
    "        if min_x < 0 or min_y < 0:\n",
    "            return False\n",
    "        if max_x > self.width or max_y > self.height:\n",
    "            return False\n",
    "        \n",
    "        for i in range(min_y, max_y):\n",
    "            for j in range(min_x, max_x):\n",
    "#                 print('validate:', i, j, self.matrix[i][j])\n",
    "                if self.matrix[i][j] != 0:\n",
    "#                     print('WRONG', i, j)\n",
    "                    return False\n",
    "        return True\n",
    "    \n",
    "    def bomb(self, x, y):\n",
    "        '''\n",
    "        @return 'INVALID': invalid place to bomb\n",
    "                'SEA': There is nothing but water\n",
    "                'BOMB': ship has been bombed\n",
    "                'SINK': ship has beed sinked\n",
    "                'END' : Game Over\n",
    "                \n",
    "        '''\n",
    "        value = self.matrix[y][x]\n",
    "        self.matrix[y][x] = -1\n",
    "        if value > 0:\n",
    "            self.ships[value] -= 1\n",
    "            self.count -= 1\n",
    "            \n",
    "        if self.count <= 0:\n",
    "            return 'END'\n",
    "        elif value > 0 and self.ships[value] <= 0:\n",
    "            return 'SINK {0}'.format(value)\n",
    "        elif value == 0:\n",
    "            return 'SEA'\n",
    "        elif value < 0:\n",
    "            return 'INVALID'\n",
    "        elif value > 0:\n",
    "            return 'BOMB x:{0} y:{1} ship:{2}'.format(x, y, value)\n",
    "    \n",
    "    def random_bomb(self):\n",
    "        options = []\n",
    "        for i in range(self.height):\n",
    "            for j in range(self.width):\n",
    "                if self.matrix[i][j] != -1:\n",
    "                    options.append((i, j))\n",
    "                    \n",
    "        y, x = random.choice(options)\n",
    "        return self.bomb(x, y)\n",
    "                \n",
    "        \n",
    "player1 = Player(size=(5, 5))\n",
    "player1.add_ship(3, 1)\n",
    "player1.add_ship(1, 4)\n",
    "player1.add_ship(1, 1)\n",
    "player1.add_ship(2, 2)\n",
    "pprint(player1.matrix)\n",
    "print(player1.ships)\n",
    "print(player1.count)\n"
   ]
  },
  {
   "cell_type": "code",
   "execution_count": 268,
   "metadata": {},
   "outputs": [
    {
     "name": "stdout",
     "output_type": "stream",
     "text": [
      "END\n",
      "[[-1, -1, -1, -1, -1],\n",
      " [-1, -1, -1, -1, -1],\n",
      " [-1, -1, -1, -1, -1],\n",
      " [-1, -1, -1, -1, -1],\n",
      " [-1, -1, -1, -1, -1]]\n"
     ]
    }
   ],
   "source": [
    "print(player1.random_bomb())\n",
    "pprint(player1.matrix)"
   ]
  }
 ],
 "metadata": {
  "kernelspec": {
   "display_name": "Python 3",
   "language": "python",
   "name": "python3"
  },
  "language_info": {
   "codemirror_mode": {
    "name": "ipython",
    "version": 3
   },
   "file_extension": ".py",
   "mimetype": "text/x-python",
   "name": "python",
   "nbconvert_exporter": "python",
   "pygments_lexer": "ipython3",
   "version": "3.6.4"
  }
 },
 "nbformat": 4,
 "nbformat_minor": 2
}
