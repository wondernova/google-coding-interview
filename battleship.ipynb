{
 "cells": [
  {
   "cell_type": "markdown",
   "metadata": {},
   "source": [
    "# Battleship Architecture\n",
    "\n",
    "1. 2명의 플레이어가 존재한다.\n",
    "2. 가정은 서로 HTTP 통신으로 하지만, 통신의 구현은 하지 않는다. \n",
    "3. 모든 배는 서로 붙어 있을 수 있다. \n",
    "4. 배는 서로 각기 다른 형태를 갖고 있다."
   ]
  },
  {
   "cell_type": "code",
   "execution_count": 26,
   "metadata": {},
   "outputs": [
    {
     "name": "stdout",
     "output_type": "stream",
     "text": [
      "[[0, 0, 1, 0, 0, 0, 0, 0, 0, 0],\n",
      " [0, 0, 0, 0, 0, 0, 0, 0, 0, 0],\n",
      " [0, 0, 0, 0, 0, 0, 0, 0, 0, 0],\n",
      " [0, 0, 0, 0, 0, 0, 0, 0, 0, 0],\n",
      " [0, 0, 0, 0, 0, 0, 0, 0, 0, 0],\n",
      " [0, 0, 0, 0, 0, 0, 0, 0, 0, 0],\n",
      " [0, 0, 0, 0, 0, 0, 0, 0, 0, 0],\n",
      " [0, 0, 0, 0, 0, 0, 0, 0, 0, 0],\n",
      " [0, 0, 0, 0, 0, 0, 0, 0, 0, 0],\n",
      " [0, 0, 0, 0, 0, 0, 0, 0, 0, 0]]\n",
      "[(0, 0, 0, 0, 0, 0, 0, 0, 0, 0),\n",
      " (0, 0, 0, 0, 0, 0, 0, 0, 0, 0),\n",
      " (1, 0, 0, 0, 0, 0, 0, 0, 0, 0),\n",
      " (0, 0, 0, 0, 0, 0, 0, 0, 0, 0),\n",
      " (0, 0, 0, 0, 0, 0, 0, 0, 0, 0),\n",
      " (0, 0, 0, 0, 0, 0, 0, 0, 0, 0),\n",
      " (0, 0, 0, 0, 0, 0, 0, 0, 0, 0),\n",
      " (0, 0, 0, 0, 0, 0, 0, 0, 0, 0),\n",
      " (0, 0, 0, 0, 0, 0, 0, 0, 0, 0),\n",
      " (0, 0, 0, 0, 0, 0, 0, 0, 0, 0)]\n",
      "[(3, 1)]\n"
     ]
    }
   ],
   "source": [
    "from pprint import pprint\n",
    "from random import randint\n",
    "\n",
    "class Player:\n",
    "    def __init__(self, size=(10, 10)):\n",
    "        '''\n",
    "        @param size: (y, x)\n",
    "        '''\n",
    "        self.matrix = [[0]*size[1] for _ in range(size[0])]\n",
    "        self.matrix[0][2] = 1\n",
    "        pprint(self.matrix)\n",
    "        \n",
    "        pprint(list(zip(*self.matrix)))\n",
    "        self.ships = []\n",
    "    \n",
    "    def add_ship(self, y, x):\n",
    "        rand = randint(0, 2)\n",
    "        if rand%2 == 0:\n",
    "            self.ships.append((y, x))\n",
    "        else:\n",
    "            self.ships.append((x, y))\n",
    "            \n",
    "    \n",
    "player1 = Player()\n",
    "player1.add_ship(3, 1)\n",
    "print(player1.ships)\n",
    "    "
   ]
  },
  {
   "cell_type": "code",
   "execution_count": 66,
   "metadata": {},
   "outputs": [
    {
     "data": {
      "text/plain": [
       "[1, 2, 3, 4]"
      ]
     },
     "execution_count": 66,
     "metadata": {},
     "output_type": "execute_result"
    }
   ],
   "source": [
    "import numpy as np\n",
    "\n",
    "d = np.arange(16).reshape(4, 4).tolist()\n",
    "\n",
    "True and [1,2,3,4]\n"
   ]
  }
 ],
 "metadata": {
  "kernelspec": {
   "display_name": "Python 3",
   "language": "python",
   "name": "python3"
  },
  "language_info": {
   "codemirror_mode": {
    "name": "ipython",
    "version": 3
   },
   "file_extension": ".py",
   "mimetype": "text/x-python",
   "name": "python",
   "nbconvert_exporter": "python",
   "pygments_lexer": "ipython3",
   "version": "3.6.4"
  }
 },
 "nbformat": 4,
 "nbformat_minor": 2
}
