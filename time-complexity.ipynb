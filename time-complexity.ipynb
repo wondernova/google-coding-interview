{
 "cells": [
  {
   "cell_type": "code",
   "execution_count": 3,
   "metadata": {},
   "outputs": [
    {
     "name": "stdout",
     "output_type": "stream",
     "text": [
      "Populating the interactive namespace from numpy and matplotlib\n"
     ]
    }
   ],
   "source": [
    "%pylab inline\n",
    "import numpy as np\n",
    "import math"
   ]
  },
  {
   "cell_type": "code",
   "execution_count": 32,
   "metadata": {},
   "outputs": [
    {
     "data": {
      "text/plain": [
       "<matplotlib.legend.Legend at 0x7f2bb05c14a8>"
      ]
     },
     "execution_count": 32,
     "metadata": {},
     "output_type": "execute_result"
    },
    {
     "data": {
      "image/png": "[encoded data removed]",
      "text/plain": [
       "<matplotlib.figure.Figure at 0x7f2bb0634080>"
      ]
     },
     "metadata": {},
     "output_type": "display_data"
    }
   ],
   "source": [
    "x = np.arange(10, dtype=np.longlong)\n",
    "\n",
    "\n",
    "\n",
    "plot(x, 2**x, label='2^x')\n",
    "plot(x, x**x, label='x^x')\n",
    "legend()"
   ]
  },
  {
   "cell_type": "code",
   "execution_count": 30,
   "metadata": {},
   "outputs": [
    {
     "name": "stdout",
     "output_type": "stream",
     "text": [
      "[                   1                    1                    4\n",
      "                   27                  256                 3125\n",
      "                46656               823543             16777216\n",
      "            387420489          10000000000         285311670611\n",
      "        8916100448256      302875106592253    11112006825558016\n",
      "   437893890380859375                    0 -2863221430593058543\n",
      "  -497033925936021504  6353754964178307979 -2101438300051996672\n",
      " -1595931050845505211  4981753131911086080  8450172506621111015\n",
      "                    0 -6776596920136667815 -1123307876295639040\n",
      " -5278486589563110205 -6845471433603153920  5529354540715494413\n",
      "  2565992168703393792 -4642015662142636065                    0\n",
      " -4053175462519618527 -5296008294479953920  8407224849895527163\n",
      "                    0 -4689350456247753643  6543552412563537920\n",
      " -8795647696940200745                    0 -6284992600390200471\n",
      "  4121466560160202752 -4071272324936764365                    0\n",
      "  2604998672350111773   512354826357571584  2110287360296998863\n",
      "                    0 -2559158286230232783]\n"
     ]
    }
   ],
   "source": [
    "print(x**x)"
   ]
  }
 ],
 "metadata": {
  "kernelspec": {
   "display_name": "Python 3",
   "language": "python",
   "name": "python3"
  },
  "language_info": {
   "codemirror_mode": {
    "name": "ipython",
    "version": 3
   },
   "file_extension": ".py",
   "mimetype": "text/x-python",
   "name": "python",
   "nbconvert_exporter": "python",
   "pygments_lexer": "ipython3",
   "version": "3.6.4"
  }
 },
 "nbformat": 4,
 "nbformat_minor": 2
}
